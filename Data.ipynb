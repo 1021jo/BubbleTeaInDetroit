{
    "nbformat_minor": 1, 
    "cells": [
        {
            "source": "Dataset1\n\nFoursquare bubble tea dataset: Getting all the current bubble tea shop location and details via Foursquare API. With this dataset, use clustering analysis to get to the popular areas for the potential location. Using the details of the bubble tea shops to understand their ratings and popularity to optimize the model for location choice. We should open the shop close to low rating bubble tea shops, away from high rating ones.\n\n\nDataset2\n\nFoursquare Asian restaurant and supermarket dataset: Getting all the current Asian restaurant and supermarket location data via Foursquare API. The restaurant cuisines include: Chinese, Korean, Japanese, Thai, and Vietnamese. (Focus on East Asian cuisines). People can stop by the bubble tea shop before or after they have meals in these Asian restaurants and supermarkets. \n\n\nDataset3\n\nUniversity dataset: getting University location and student population dataset  by scraping the webpage: https://www.collegesimply.com/colleges-near/michigan/detroit/ University students are a big target who consume bubble tea. This can be another market together with the Asian market.\n", 
            "cell_type": "markdown", 
            "metadata": {
                "collapsed": true
            }
        }, 
        {
            "execution_count": null, 
            "cell_type": "code", 
            "metadata": {}, 
            "outputs": [], 
            "source": ""
        }
    ], 
    "metadata": {
        "kernelspec": {
            "display_name": "Python 3.5", 
            "name": "python3", 
            "language": "python"
        }, 
        "language_info": {
            "mimetype": "text/x-python", 
            "nbconvert_exporter": "python", 
            "version": "3.5.5", 
            "name": "python", 
            "file_extension": ".py", 
            "pygments_lexer": "ipython3", 
            "codemirror_mode": {
                "version": 3, 
                "name": "ipython"
            }
        }
    }, 
    "nbformat": 4
}