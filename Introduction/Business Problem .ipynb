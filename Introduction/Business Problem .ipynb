{
    "nbformat_minor": 1, 
    "cells": [
        {
            "source": "One of the special drinks that Asians like to drink is bubble tea (https://en.wikipedia.org/wiki/Bubble_tea). Opening a Bubble Tea shop is relatively low cost compared to opening a restaurant. This report is to focus on the analysis to assist finding a good location to open a Bubble Tea shop in Metro Detroit area. For those who want to invest in Detroit area with Asian market and seek out small business ideas, this report can suggest potential location of a bubble tea shop with good competitive information.\n\nAccording to the 2000 U.S. Census there were 103,054 people of Asian origins living in the Detroit Metropolitan area. From 2000 to 2010 the Asian American population combined of Wayne, Oakland, and Macomb counties increased by 37%. As of 2010 almost half of the Asian Americans in the three county area live in Oakland County.\n\nEarlier in 2018, a new Bubble Tea shop (Kung Fu Tea) opened in Oakland County. People have to wait in a long line to get their drinks during popular hours like weekend nights. Together with the increasing Asian population in Detroit area, this presents a great business opportunity.", 
            "cell_type": "markdown", 
            "metadata": {
                "collapsed": true
            }
        }, 
        {
            "execution_count": null, 
            "cell_type": "code", 
            "metadata": {}, 
            "outputs": [], 
            "source": ""
        }
    ], 
    "metadata": {
        "kernelspec": {
            "display_name": "Python 3.5", 
            "name": "python3", 
            "language": "python"
        }, 
        "language_info": {
            "mimetype": "text/x-python", 
            "nbconvert_exporter": "python", 
            "version": "3.5.5", 
            "name": "python", 
            "file_extension": ".py", 
            "pygments_lexer": "ipython3", 
            "codemirror_mode": {
                "version": 3, 
                "name": "ipython"
            }
        }
    }, 
    "nbformat": 4
}